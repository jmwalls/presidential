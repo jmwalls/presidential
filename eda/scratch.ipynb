{
 "cells": [
  {
   "cell_type": "code",
   "execution_count": 1,
   "id": "37f38b99-6a4a-4530-aa16-3108b2f811a0",
   "metadata": {},
   "outputs": [],
   "source": [
    "from openai import OpenAI"
   ]
  },
  {
   "cell_type": "code",
   "execution_count": 2,
   "id": "39ca2251-90ad-4579-942b-567d3d5eac90",
   "metadata": {},
   "outputs": [],
   "source": [
    "client = OpenAI()"
   ]
  },
  {
   "cell_type": "code",
   "execution_count": 4,
   "id": "31c7fcfc-2130-4bd5-bad3-ceeb3e76eaed",
   "metadata": {},
   "outputs": [
    {
     "name": "stdout",
     "output_type": "stream",
     "text": [
      "CPU times: user 23.1 ms, sys: 11.3 ms, total: 34.5 ms\n",
      "Wall time: 24.7 s\n"
     ]
    }
   ],
   "source": [
    "%%time\n",
    "completion = client.chat.completions.create(\n",
    "  model=\"gpt-3.5-turbo\",\n",
    "  messages=[\n",
    "    {\"role\": \"system\", \"content\": \"You are a poetic assistant, skilled in explaining complex programming concepts with creative flair.\"},\n",
    "    {\"role\": \"user\", \"content\": \"Compose a poem that explains the concept of recursion in programming.\"}\n",
    "  ]\n",
    ")"
   ]
  },
  {
   "cell_type": "code",
   "execution_count": 5,
   "id": "bfa97081-5ce7-447f-b1ef-7c78f191f57b",
   "metadata": {},
   "outputs": [
    {
     "data": {
      "text/plain": [
       "ChatCompletion(id='chatcmpl-8j9gwnEaJOmdlEpOxRcu5LI8oMLI4', choices=[Choice(finish_reason='stop', index=0, logprobs=None, message=ChatCompletionMessage(content=\"In coding realms where logic thrives,\\nA concept whispers, it survives.\\nRecursive, it's a technique rare,\\nA twist of code, a coding snare.\\n\\nImagine a function, small but grand,\\nWith a path that loops, expand and expand.\\nLike a mirrored maze, it finds its way,\\nRepeating steps with no delay.\\n\\nIt starts with a task, a simple call,\\nSolving puzzles, big and small.\\nBut within its depths, a secret lies,\\nA journey to infinite skies.\\n\\nWith every call, it peels a layer,\\nUnveiling patterns, truth's betrayer.\\nThe function dives into itself,\\nSeeking answers on its virtual shelf.\\n\\nAgain and again, it takes the leap,\\nA loop through time, in cycles deep.\\nEach time it calls, it does not bend,\\nBut asks another copy, a faithful friend.\\n\\nLike echoes dancing in the air,\\nRecursion answers its own prayer.\\nA web of functions interweaving,\\nA cascade of code, forever believing.\\n\\nBut beware, oh weary coder,\\nOf this enchanting endless order.\\nWithout a base, a halt unseen,\\nRecursion's spell can turn quite mean.\\n\\nLike a tale without an ending,\\nThe stack grows tall, the energy bending.\\nResources consumed without cease,\\nA heap of chaos, inner peace.\\n\\nYet when used with care and grace,\\nRecursion finds its rightful place.\\nIt scales mountains, depths untold,\\nTaming complexity, turning it gold.\\n\\nSo let your code embrace this power,\\nBut remember, in your coding hour:\\nRecursion, a feathered quill you wield,\\nA dance with loops, infinite yield.\", role='assistant', function_call=None, tool_calls=None))], created=1705772706, model='gpt-3.5-turbo-0613', object='chat.completion', system_fingerprint=None, usage=CompletionUsage(completion_tokens=328, prompt_tokens=39, total_tokens=367))"
      ]
     },
     "execution_count": 5,
     "metadata": {},
     "output_type": "execute_result"
    }
   ],
   "source": [
    "completion"
   ]
  },
  {
   "cell_type": "code",
   "execution_count": 7,
   "id": "1cd5e8c7-d845-40b3-96d6-161cee440560",
   "metadata": {},
   "outputs": [
    {
     "name": "stdout",
     "output_type": "stream",
     "text": [
      "In coding realms where logic thrives,\n",
      "A concept whispers, it survives.\n",
      "Recursive, it's a technique rare,\n",
      "A twist of code, a coding snare.\n",
      "\n",
      "Imagine a function, small but grand,\n",
      "With a path that loops, expand and expand.\n",
      "Like a mirrored maze, it finds its way,\n",
      "Repeating steps with no delay.\n",
      "\n",
      "It starts with a task, a simple call,\n",
      "Solving puzzles, big and small.\n",
      "But within its depths, a secret lies,\n",
      "A journey to infinite skies.\n",
      "\n",
      "With every call, it peels a layer,\n",
      "Unveiling patterns, truth's betrayer.\n",
      "The function dives into itself,\n",
      "Seeking answers on its virtual shelf.\n",
      "\n",
      "Again and again, it takes the leap,\n",
      "A loop through time, in cycles deep.\n",
      "Each time it calls, it does not bend,\n",
      "But asks another copy, a faithful friend.\n",
      "\n",
      "Like echoes dancing in the air,\n",
      "Recursion answers its own prayer.\n",
      "A web of functions interweaving,\n",
      "A cascade of code, forever believing.\n",
      "\n",
      "But beware, oh weary coder,\n",
      "Of this enchanting endless order.\n",
      "Without a base, a halt unseen,\n",
      "Recursion's spell can turn quite mean.\n",
      "\n",
      "Like a tale without an ending,\n",
      "The stack grows tall, the energy bending.\n",
      "Resources consumed without cease,\n",
      "A heap of chaos, inner peace.\n",
      "\n",
      "Yet when used with care and grace,\n",
      "Recursion finds its rightful place.\n",
      "It scales mountains, depths untold,\n",
      "Taming complexity, turning it gold.\n",
      "\n",
      "So let your code embrace this power,\n",
      "But remember, in your coding hour:\n",
      "Recursion, a feathered quill you wield,\n",
      "A dance with loops, infinite yield.\n"
     ]
    }
   ],
   "source": [
    "print(completion.choices[0].message.content)"
   ]
  }
 ],
 "metadata": {
  "kernelspec": {
   "display_name": "Python 3 (ipykernel)",
   "language": "python",
   "name": "python3"
  },
  "language_info": {
   "codemirror_mode": {
    "name": "ipython",
    "version": 3
   },
   "file_extension": ".py",
   "mimetype": "text/x-python",
   "name": "python",
   "nbconvert_exporter": "python",
   "pygments_lexer": "ipython3",
   "version": "3.11.7"
  }
 },
 "nbformat": 4,
 "nbformat_minor": 5
}
